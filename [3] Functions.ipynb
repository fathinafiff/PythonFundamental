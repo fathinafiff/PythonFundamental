{
 "cells": [
  {
   "cell_type": "markdown",
   "metadata": {},
   "source": [
    "# 0. Functions"
   ]
  },
  {
   "cell_type": "code",
   "execution_count": 13,
   "metadata": {},
   "outputs": [],
   "source": [
    "# defining basic function\n",
    "def welcome():\n",
    "    print('Hello happy to see you')"
   ]
  },
  {
   "cell_type": "code",
   "execution_count": 14,
   "metadata": {},
   "outputs": [
    {
     "name": "stdout",
     "output_type": "stream",
     "text": [
      "Hello happy to see you\n"
     ]
    }
   ],
   "source": [
    "welcome()"
   ]
  },
  {
   "cell_type": "markdown",
   "metadata": {},
   "source": [
    "## Positional Argument"
   ]
  },
  {
   "cell_type": "code",
   "execution_count": 22,
   "metadata": {},
   "outputs": [],
   "source": [
    "# pass variable into function\n",
    "def custom_welcome(name):\n",
    "    print('Welcome {}'.format(name)) # string formatting"
   ]
  },
  {
   "cell_type": "code",
   "execution_count": 38,
   "metadata": {},
   "outputs": [
    {
     "name": "stdout",
     "output_type": "stream",
     "text": [
      "Welcome Naruto Uzumaki\n",
      "Welcome Monkey D. Luffy\n",
      "Welcome Goku\n",
      "Welcome Eren Yeager\n"
     ]
    }
   ],
   "source": [
    "# using custom_welcome function\n",
    "main_character = ['Naruto Uzumaki', 'Monkey D. Luffy', 'Goku', 'Eren Yeager']\n",
    "for name in main_character:\n",
    "    custom_welcome(name)"
   ]
  },
  {
   "cell_type": "code",
   "execution_count": 24,
   "metadata": {},
   "outputs": [],
   "source": [
    "# another example defining function\n",
    "def average(data):\n",
    "    return sum(data)/len(data)"
   ]
  },
  {
   "cell_type": "code",
   "execution_count": 75,
   "metadata": {},
   "outputs": [
    {
     "data": {
      "text/plain": [
       "18.0"
      ]
     },
     "execution_count": 75,
     "metadata": {},
     "output_type": "execute_result"
    }
   ],
   "source": [
    "# trying to use average function and return that into variable\n",
    "value = [42, 23, 16, 8, 15, 4]\n",
    "avg = average(value)\n",
    "avg"
   ]
  },
  {
   "cell_type": "code",
   "execution_count": 31,
   "metadata": {},
   "outputs": [],
   "source": [
    "# Make function with pass 2 variable\n",
    "def anime(name, anime):\n",
    "    return f'{name}, Main Character on {anime}'"
   ]
  },
  {
   "cell_type": "code",
   "execution_count": 41,
   "metadata": {},
   "outputs": [
    {
     "name": "stdout",
     "output_type": "stream",
     "text": [
      "Naruto Uzumaki, Main Character on Naruto\n",
      "Monkey D. Luffy, Main Character on One Piece\n",
      "Goku, Main Character on Dragon Ball\n",
      "Eren Yeager, Main Character on Attack on Titan\n"
     ]
    }
   ],
   "source": [
    "## Looping with index\n",
    "main_character = ['Naruto Uzumaki', 'Monkey D. Luffy', 'Goku', 'Eren Yeager']\n",
    "anime_names = ['Naruto', 'One Piece', 'Dragon Ball', 'Attack on Titan']\n",
    "\n",
    "# using enumerate for indexing anime_names \n",
    "for idx, name in enumerate(main_character):\n",
    "    print(anime(name, anime_names[idx]))"
   ]
  },
  {
   "cell_type": "markdown",
   "metadata": {},
   "source": [
    "## Keyword Argument"
   ]
  },
  {
   "cell_type": "code",
   "execution_count": 60,
   "metadata": {},
   "outputs": [],
   "source": [
    "# defining functions using keyword argument\n",
    "def anime_suit(color='yellow'):\n",
    "    print('your suit is {}'.format(color))"
   ]
  },
  {
   "cell_type": "code",
   "execution_count": 63,
   "metadata": {},
   "outputs": [
    {
     "name": "stdout",
     "output_type": "stream",
     "text": [
      "your suit is yellow\n",
      "your suit is blue\n"
     ]
    }
   ],
   "source": [
    "anime_suit() #default will be yellow\n",
    "anime_suit(color='blue')"
   ]
  },
  {
   "cell_type": "code",
   "execution_count": 70,
   "metadata": {},
   "outputs": [],
   "source": [
    "#combine position arguments with keyword arguments\n",
    "def anime_char_suit(name,anime,color='yellow',next_season='confirm'):\n",
    "    print('{}, from {} ur suit will change into {} also ur next season is {}'.format(name, anime ,color, next_season))"
   ]
  },
  {
   "cell_type": "code",
   "execution_count": 72,
   "metadata": {},
   "outputs": [
    {
     "name": "stdout",
     "output_type": "stream",
     "text": [
      "Naruto Uzumaki, from Naruto ur suit will change into white also ur next season is confirm\n",
      "Monkey D. Luffy, from One Piece ur suit will change into white also ur next season is confirm\n",
      "Goku, from Dragon Ball ur suit will change into white also ur next season is confirm\n",
      "Eren Yeager, from Attack on Titan ur suit will change into white also ur next season is confirm\n"
     ]
    }
   ],
   "source": [
    "for idx, name in enumerate(main_character):\n",
    "    anime_char_suit(name, anime_names[idx], color='white')"
   ]
  },
  {
   "cell_type": "markdown",
   "metadata": {},
   "source": [
    "# 1. Lambda functions - anonymous function"
   ]
  },
  {
   "cell_type": "code",
   "execution_count": 76,
   "metadata": {},
   "outputs": [],
   "source": [
    "pi = lambda x: x*3.142"
   ]
  },
  {
   "cell_type": "code",
   "execution_count": 79,
   "metadata": {},
   "outputs": [
    {
     "data": {
      "text/plain": [
       "6.284"
      ]
     },
     "execution_count": 79,
     "metadata": {},
     "output_type": "execute_result"
    }
   ],
   "source": [
    "var = pi(2)\n",
    "var"
   ]
  }
 ],
 "metadata": {
  "kernelspec": {
   "display_name": "base",
   "language": "python",
   "name": "python3"
  },
  "language_info": {
   "codemirror_mode": {
    "name": "ipython",
    "version": 3
   },
   "file_extension": ".py",
   "mimetype": "text/x-python",
   "name": "python",
   "nbconvert_exporter": "python",
   "pygments_lexer": "ipython3",
   "version": "3.9.0"
  }
 },
 "nbformat": 4,
 "nbformat_minor": 2
}
