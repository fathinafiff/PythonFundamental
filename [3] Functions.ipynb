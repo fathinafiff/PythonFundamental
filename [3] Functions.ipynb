{
 "cells": [
  {
   "cell_type": "markdown",
   "metadata": {},
   "source": [
    "# 0. Functions"
   ]
  },
  {
   "cell_type": "code",
   "execution_count": 13,
   "metadata": {},
   "outputs": [],
   "source": [
    "# defining basic function\n",
    "def welcome():\n",
    "    print('Hello happy to see you')"
   ]
  },
  {
   "cell_type": "code",
   "execution_count": 14,
   "metadata": {},
   "outputs": [
    {
     "name": "stdout",
     "output_type": "stream",
     "text": [
      "Hello happy to see you\n"
     ]
    }
   ],
   "source": [
    "welcome()"
   ]
  },
  {
   "cell_type": "code",
   "execution_count": 22,
   "metadata": {},
   "outputs": [],
   "source": [
    "# pass variable into function\n",
    "def custom_welcome(name):\n",
    "    print('Welcome {}'.format(name)) # string formatting"
   ]
  },
  {
   "cell_type": "code",
   "execution_count": 38,
   "metadata": {},
   "outputs": [
    {
     "name": "stdout",
     "output_type": "stream",
     "text": [
      "Welcome Naruto Uzumaki\n",
      "Welcome Monkey D. Luffy\n",
      "Welcome Goku\n",
      "Welcome Eren Yeager\n"
     ]
    }
   ],
   "source": [
    "# using custom_welcome function\n",
    "main_character = ['Naruto Uzumaki', 'Monkey D. Luffy', 'Goku', 'Eren Yeager']\n",
    "for name in main_character:\n",
    "    custom_welcome(name)"
   ]
  },
  {
   "cell_type": "code",
   "execution_count": 24,
   "metadata": {},
   "outputs": [],
   "source": [
    "# another example defining function\n",
    "def average(data):\n",
    "    return sum(data)/len(data)"
   ]
  },
  {
   "cell_type": "code",
   "execution_count": 25,
   "metadata": {},
   "outputs": [
    {
     "data": {
      "text/plain": [
       "18.0"
      ]
     },
     "execution_count": 25,
     "metadata": {},
     "output_type": "execute_result"
    }
   ],
   "source": [
    "# trying to use average function\n",
    "value = [42, 23, 16, 8, 15, 4]\n",
    "average(value)"
   ]
  },
  {
   "cell_type": "code",
   "execution_count": 31,
   "metadata": {},
   "outputs": [],
   "source": [
    "# Make function with pass 2 variable\n",
    "def anime(name, anime):\n",
    "    return f'{name}, Main Character on {anime}'"
   ]
  },
  {
   "cell_type": "code",
   "execution_count": 41,
   "metadata": {},
   "outputs": [
    {
     "name": "stdout",
     "output_type": "stream",
     "text": [
      "Naruto Uzumaki, Main Character on Naruto\n",
      "Monkey D. Luffy, Main Character on One Piece\n",
      "Goku, Main Character on Dragon Ball\n",
      "Eren Yeager, Main Character on Attack on Titan\n"
     ]
    }
   ],
   "source": [
    "## Looping with index\n",
    "main_character = ['Naruto Uzumaki', 'Monkey D. Luffy', 'Goku', 'Eren Yeager']\n",
    "anime_names = ['Naruto', 'One Piece', 'Dragon Ball', 'Attack on Titan']\n",
    "\n",
    "# using enumerate for indexing anime_names \n",
    "for idx, name in enumerate(main_character):\n",
    "    print(anime(name, anime_names[idx]))"
   ]
  },
  {
   "cell_type": "markdown",
   "metadata": {},
   "source": [
    "# 1. "
   ]
  },
  {
   "cell_type": "code",
   "execution_count": null,
   "metadata": {},
   "outputs": [],
   "source": []
  },
  {
   "cell_type": "code",
   "execution_count": null,
   "metadata": {},
   "outputs": [],
   "source": []
  },
  {
   "cell_type": "code",
   "execution_count": null,
   "metadata": {},
   "outputs": [],
   "source": []
  },
  {
   "cell_type": "code",
   "execution_count": null,
   "metadata": {},
   "outputs": [],
   "source": []
  },
  {
   "cell_type": "code",
   "execution_count": null,
   "metadata": {},
   "outputs": [],
   "source": []
  },
  {
   "cell_type": "code",
   "execution_count": null,
   "metadata": {},
   "outputs": [],
   "source": []
  }
 ],
 "metadata": {
  "kernelspec": {
   "display_name": "base",
   "language": "python",
   "name": "python3"
  },
  "language_info": {
   "codemirror_mode": {
    "name": "ipython",
    "version": 3
   },
   "file_extension": ".py",
   "mimetype": "text/x-python",
   "name": "python",
   "nbconvert_exporter": "python",
   "pygments_lexer": "ipython3",
   "version": "3.9.0"
  }
 },
 "nbformat": 4,
 "nbformat_minor": 2
}
