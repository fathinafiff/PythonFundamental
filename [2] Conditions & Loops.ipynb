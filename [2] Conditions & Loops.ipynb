{
 "cells": [
  {
   "cell_type": "markdown",
   "metadata": {},
   "source": [
    "# 0. Conditions"
   ]
  },
  {
   "attachments": {
    "image.png": {
     "image/png": "[encoded data removed]"
    }
   },
   "cell_type": "markdown",
   "metadata": {},
   "source": [
    "Before dive in into alot of syntax it's better to know how operator in python write, it's just like math in high school very easy, if u want detail og other operator u can just go into [link](https://www.w3schools.com/python/gloss_python_comparison_operators.asp). but most used is already attach in images below:\n",
    "\n",
    "![image.png](attachment:image.png)"
   ]
  },
  {
   "cell_type": "markdown",
   "metadata": {},
   "source": [
    "## `if` statement"
   ]
  },
  {
   "cell_type": "code",
   "execution_count": 13,
   "metadata": {},
   "outputs": [
    {
     "name": "stdout",
     "output_type": "stream",
     "text": [
      "cool!!, there is famous tinapyp\n"
     ]
    }
   ],
   "source": [
    "name = 'tinapyp'\n",
    "if name == 'tinapyp':\n",
    "    print('cool!!, there is famous tinapyp')"
   ]
  },
  {
   "cell_type": "markdown",
   "metadata": {},
   "source": [
    "## `if-else` statement"
   ]
  },
  {
   "cell_type": "code",
   "execution_count": 7,
   "metadata": {},
   "outputs": [
    {
     "name": "stdout",
     "output_type": "stream",
     "text": [
      "0\n"
     ]
    }
   ],
   "source": [
    "y_hat = 0.4\n",
    "if y_hat > 0.5:\n",
    "    print(True)\n",
    "else:\n",
    "    print(False)"
   ]
  },
  {
   "cell_type": "markdown",
   "metadata": {},
   "source": [
    "## `if-elif-else` Statement"
   ]
  },
  {
   "cell_type": "code",
   "execution_count": 12,
   "metadata": {},
   "outputs": [
    {
     "name": "stdout",
     "output_type": "stream",
     "text": [
      "it's weird, probabilities is under 0\n"
     ]
    }
   ],
   "source": [
    "y_hat = -1\n",
    "if y_hat > 0.5:\n",
    "   print(True) \n",
    "elif y_hat < 0:\n",
    "    print('it\\'s weird, probabilities is under 0')\n",
    "else:\n",
    "    print(False)"
   ]
  },
  {
   "cell_type": "markdown",
   "metadata": {},
   "source": [
    "## `in` use case "
   ]
  },
  {
   "cell_type": "code",
   "execution_count": 11,
   "metadata": {},
   "outputs": [
    {
     "name": "stdout",
     "output_type": "stream",
     "text": [
      "yup sakura's in tim 7\n"
     ]
    }
   ],
   "source": [
    "tim7 = ['naruto', 'sasuke', 'sakura', 'kakashi']\n",
    "if 'sakura' in tim7:\n",
    "    print('yup sakura\\'s in tim 7')"
   ]
  },
  {
   "cell_type": "markdown",
   "metadata": {},
   "source": [
    "# 1. Loops"
   ]
  },
  {
   "cell_type": "markdown",
   "metadata": {},
   "source": [
    "## `for` loop"
   ]
  },
  {
   "cell_type": "code",
   "execution_count": 16,
   "metadata": {},
   "outputs": [
    {
     "name": "stdout",
     "output_type": "stream",
     "text": [
      "Naruto Uzumaki\n",
      "Monkey D. Luffy\n",
      "Goku\n",
      "Eren Yeager\n",
      "Light Yagami\n",
      "Saitama\n",
      "Tanjiro Kamado\n",
      "Izuku Midoriya\n",
      "Gon Freecss\n"
     ]
    }
   ],
   "source": [
    "main_character = [\"Naruto Uzumaki\", \"Monkey D. Luffy\", \"Goku\", \"Eren Yeager\", \"Light Yagami\", \"Saitama\", \"Tanjiro Kamado\", \"Izuku Midoriya\", \"Gon Freecss\"]\n",
    "for name in main_character:\n",
    "    print(name)"
   ]
  },
  {
   "cell_type": "code",
   "execution_count": null,
   "metadata": {},
   "outputs": [
    {
     "name": "stdout",
     "output_type": "stream",
     "text": [
      "0\n",
      "1\n",
      "2\n",
      "3\n",
      "4\n",
      "5\n",
      "6\n",
      "7\n",
      "8\n",
      "9\n"
     ]
    }
   ],
   "source": [
    "# Loop x number of times:\n",
    "for i in range (10):\n",
    "    print(i)"
   ]
  },
  {
   "cell_type": "markdown",
   "metadata": {},
   "source": [
    "## `break`, `continue`, `pass`"
   ]
  },
  {
   "cell_type": "markdown",
   "metadata": {},
   "source": [
    "### `break` loop"
   ]
  },
  {
   "cell_type": "code",
   "execution_count": 47,
   "metadata": {},
   "outputs": [
    {
     "name": "stdout",
     "output_type": "stream",
     "text": [
      "Naruto Uzumaki\n",
      "\n",
      "Monkey D. Luffy\n",
      "\n",
      "Goku\n",
      "\n",
      "hey Eren Yeager \n",
      "\n",
      "Light Yagami\n",
      "\n",
      "hei Saitama, you so strong \n",
      "\n"
     ]
    }
   ],
   "source": [
    "## break when we meet Saitama, because he so cool\n",
    "for name in main_character:\n",
    "    if name[0].lower() in ['a', 'i', 'u', 'e', 'o']:\n",
    "        print(f'hey {name} \\n')\n",
    "    elif name == 'Saitama':\n",
    "        print(f'hei {name}, you so strong \\n')\n",
    "        break\n",
    "    else:\n",
    "        print(name)\n",
    "        print()"
   ]
  },
  {
   "cell_type": "markdown",
   "metadata": {},
   "source": [
    "### `continue` on loop"
   ]
  },
  {
   "cell_type": "code",
   "execution_count": 50,
   "metadata": {},
   "outputs": [
    {
     "name": "stdout",
     "output_type": "stream",
     "text": [
      "Naruto Uzumaki,hey ya \n",
      "\n",
      "Monkey D. Luffy,hey ya \n",
      "\n",
      "Goku,hey ya \n",
      "\n",
      "hey Eren Yeager\n",
      "nice anime \n",
      "\n",
      "Light Yagami,hey ya \n",
      "\n",
      "Saitama,hey ya \n",
      "\n",
      "Tanjiro Kamado,hey ya \n",
      "\n",
      "hey Izuku Midoriya\n",
      "nice anime \n",
      "\n",
      "Gon Freecss,hey ya \n",
      "\n"
     ]
    }
   ],
   "source": [
    "## using continue to only say nice anime for who meet the condition\n",
    "for name in main_character:\n",
    "    if name[0].lower() in ['a', 'i', 'u', 'e', 'o']:\n",
    "        print(f'hey {name}')\n",
    "    else:\n",
    "        print(f'{name},hey ya \\n')\n",
    "        continue\n",
    "    print('nice anime \\n')"
   ]
  },
  {
   "cell_type": "markdown",
   "metadata": {},
   "source": [
    "### `pass` on loop"
   ]
  },
  {
   "cell_type": "code",
   "execution_count": 57,
   "metadata": {},
   "outputs": [
    {
     "name": "stdout",
     "output_type": "stream",
     "text": [
      "nice anime \n",
      "\n",
      "nice anime \n",
      "\n",
      "nice anime \n",
      "\n",
      "hey Eren Yeager\n",
      "nice anime \n",
      "\n",
      "nice anime \n",
      "\n",
      "nice anime \n",
      "\n",
      "nice anime \n",
      "\n",
      "hey Izuku Midoriya\n",
      "nice anime \n",
      "\n",
      "nice anime \n",
      "\n"
     ]
    }
   ],
   "source": [
    "# pass to skip in else statement\n",
    "for name in main_character:\n",
    "    if name[0].lower() in ['a', 'i', 'u', 'e', 'o']:\n",
    "        print(f'hey {name}')\n",
    "    else:\n",
    "        pass\n",
    "    print('nice anime \\n')"
   ]
  },
  {
   "cell_type": "markdown",
   "metadata": {},
   "source": [
    "## `while` Loop"
   ]
  },
  {
   "cell_type": "code",
   "execution_count": 67,
   "metadata": {},
   "outputs": [
    {
     "name": "stdout",
     "output_type": "stream",
     "text": [
      "evolution 1\n",
      "evolution 2\n",
      "evolution 3\n",
      "evolution 4\n",
      "All evolution is done, NICE!!!\n"
     ]
    }
   ],
   "source": [
    "evolution = 0\n",
    "total_evolution = 4\n",
    "\n",
    "while True:\n",
    "    print(f'evolution {evolution+1}')\n",
    "    evolution += 1\n",
    "    if evolution == total_evolution:\n",
    "        print(f'All evolution is done, NICE!!!')\n",
    "        break"
   ]
  },
  {
   "cell_type": "markdown",
   "metadata": {},
   "source": [
    "## Looping on Dictionary"
   ]
  },
  {
   "cell_type": "code",
   "execution_count": 68,
   "metadata": {},
   "outputs": [],
   "source": [
    "anime_writers = {\n",
    "    \"Naruto\": \"Masashi Kishimoto\",\n",
    "    \"Attack on Titan\": \"Hajime Isayama\",\n",
    "    \"My Hero Academia\": \"Kōhei Horikoshi\",\n",
    "    \"Demon Slayer\": \"Koyoharu Gotouge\",\n",
    "    \"One Piece\": \"Eiichiro Oda\"\n",
    "}"
   ]
  },
  {
   "cell_type": "code",
   "execution_count": 70,
   "metadata": {},
   "outputs": [
    {
     "name": "stdout",
     "output_type": "stream",
     "text": [
      "Naruto\n",
      "Attack on Titan\n",
      "My Hero Academia\n",
      "Demon Slayer\n",
      "One Piece\n"
     ]
    }
   ],
   "source": [
    "# Loop for Key\n",
    "for anime_title in anime_writers.keys():\n",
    "    print(anime_title)"
   ]
  },
  {
   "cell_type": "code",
   "execution_count": 71,
   "metadata": {},
   "outputs": [
    {
     "name": "stdout",
     "output_type": "stream",
     "text": [
      "Masashi Kishimoto\n",
      "Hajime Isayama\n",
      "Kōhei Horikoshi\n",
      "Koyoharu Gotouge\n",
      "Eiichiro Oda\n"
     ]
    }
   ],
   "source": [
    "# Loop for Values\n",
    "for writers in anime_writers.values():\n",
    "    print(writers)"
   ]
  },
  {
   "cell_type": "code",
   "execution_count": 76,
   "metadata": {},
   "outputs": [
    {
     "name": "stdout",
     "output_type": "stream",
     "text": [
      "Naruto, is writed by Masashi Kishimoto\n",
      "Attack on Titan, is writed by Hajime Isayama\n",
      "My Hero Academia, is writed by Kōhei Horikoshi\n",
      "Demon Slayer, is writed by Koyoharu Gotouge\n",
      "One Piece, is writed by Eiichiro Oda\n"
     ]
    }
   ],
   "source": [
    "# Loop for key and values in the same times\n",
    "for anime, writer in anime_writers.items():\n",
    "    print(f'{anime}, is writed by {writer}')"
   ]
  },
  {
   "cell_type": "markdown",
   "metadata": {},
   "source": [
    "## List Comprehensions"
   ]
  },
  {
   "cell_type": "code",
   "execution_count": 77,
   "metadata": {},
   "outputs": [],
   "source": [
    "main_character = [\"Naruto Uzumaki\", \"Monkey D. Luffy\", \"Goku\", \"Eren Yeager\", \"Light Yagami\", \"Saitama\", \"Tanjiro Kamado\", \"Izuku Midoriya\", \"Gon Freecss\"]\n",
    "lower_name =[name.lower() for name in main_character]"
   ]
  },
  {
   "cell_type": "code",
   "execution_count": 78,
   "metadata": {},
   "outputs": [
    {
     "data": {
      "text/plain": [
       "['naruto uzumaki',\n",
       " 'monkey d. luffy',\n",
       " 'goku',\n",
       " 'eren yeager',\n",
       " 'light yagami',\n",
       " 'saitama',\n",
       " 'tanjiro kamado',\n",
       " 'izuku midoriya',\n",
       " 'gon freecss']"
      ]
     },
     "execution_count": 78,
     "metadata": {},
     "output_type": "execute_result"
    }
   ],
   "source": [
    "lower_name"
   ]
  },
  {
   "cell_type": "code",
   "execution_count": null,
   "metadata": {},
   "outputs": [],
   "source": []
  },
  {
   "cell_type": "code",
   "execution_count": null,
   "metadata": {},
   "outputs": [],
   "source": []
  }
 ],
 "metadata": {
  "kernelspec": {
   "display_name": "base",
   "language": "python",
   "name": "python3"
  },
  "language_info": {
   "codemirror_mode": {
    "name": "ipython",
    "version": 3
   },
   "file_extension": ".py",
   "mimetype": "text/x-python",
   "name": "python",
   "nbconvert_exporter": "python",
   "pygments_lexer": "ipython3",
   "version": "3.9.0"
  }
 },
 "nbformat": 4,
 "nbformat_minor": 2
}
