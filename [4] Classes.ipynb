{
 "cells": [
  {
   "cell_type": "markdown",
   "metadata": {},
   "source": [
    "# 0.Classes"
   ]
  },
  {
   "cell_type": "code",
   "execution_count": 126,
   "metadata": {},
   "outputs": [],
   "source": [
    "class Character():\n",
    "    # the base method\n",
    "    def __init__(self, name, birth, ras):\n",
    "        # Create attributes for our person class\n",
    "        self.name = name\n",
    "        self.birth = birth\n",
    "        self.ras = ras\n",
    "        \n",
    "    # add age Method\n",
    "    def age(self):\n",
    "        return 2024 - self.birth\n",
    "    \n",
    "    # add method to knowing what year in certain age\n",
    "    def certain_age(self, years=10):\n",
    "        return self.birth + years"
   ]
  },
  {
   "cell_type": "code",
   "execution_count": 127,
   "metadata": {},
   "outputs": [],
   "source": [
    "# using `Character` class\n",
    "master = Character('tinapyp', 2001, 'human')"
   ]
  },
  {
   "cell_type": "code",
   "execution_count": 128,
   "metadata": {},
   "outputs": [
    {
     "data": {
      "text/plain": [
       "'tinapyp'"
      ]
     },
     "execution_count": 128,
     "metadata": {},
     "output_type": "execute_result"
    }
   ],
   "source": [
    "# Accessing a `name` attributes\n",
    "master.name"
   ]
  },
  {
   "cell_type": "code",
   "execution_count": 129,
   "metadata": {},
   "outputs": [
    {
     "data": {
      "text/plain": [
       "23"
      ]
     },
     "execution_count": 129,
     "metadata": {},
     "output_type": "execute_result"
    }
   ],
   "source": [
    "# run a `age` method\n",
    "master.age()"
   ]
  },
  {
   "cell_type": "code",
   "execution_count": 130,
   "metadata": {},
   "outputs": [
    {
     "data": {
      "text/plain": [
       "2021"
      ]
     },
     "execution_count": 130,
     "metadata": {},
     "output_type": "execute_result"
    }
   ],
   "source": [
    "# using a `certain_age` method\n",
    "master.certain_age(years=20)"
   ]
  },
  {
   "cell_type": "markdown",
   "metadata": {},
   "source": [
    "# 1. Inheritance (child class)"
   ]
  },
  {
   "cell_type": "code",
   "execution_count": 131,
   "metadata": {},
   "outputs": [],
   "source": [
    "# Build child class\n",
    "class Gamer(Character):\n",
    "    # based method\n",
    "    def __init__(self, name, birth, ras, gamer_experience):\n",
    "        # this is what give us inheritance - `super` method\n",
    "        super().__init__(name, birth, ras)\n",
    "        self.gamer_experience = gamer_experience\n",
    "    # creating method in child class to calculate waste year without experience LOL\n",
    "    def waste_year(self):\n",
    "        return self.age() - self.gamer_experience"
   ]
  },
  {
   "cell_type": "code",
   "execution_count": 132,
   "metadata": {},
   "outputs": [],
   "source": [
    "experience_gamer = Gamer('tinapyp', 2001, 'human', 12)"
   ]
  },
  {
   "cell_type": "code",
   "execution_count": 133,
   "metadata": {},
   "outputs": [
    {
     "data": {
      "text/plain": [
       "'tinapyp'"
      ]
     },
     "execution_count": 133,
     "metadata": {},
     "output_type": "execute_result"
    }
   ],
   "source": [
    "# accessing parent\n",
    "experience_gamer.name"
   ]
  },
  {
   "cell_type": "code",
   "execution_count": 134,
   "metadata": {},
   "outputs": [
    {
     "data": {
      "text/plain": [
       "12"
      ]
     },
     "execution_count": 134,
     "metadata": {},
     "output_type": "execute_result"
    }
   ],
   "source": [
    "# accessing attributes on child class\n",
    "experience_gamer.gamer_experience"
   ]
  },
  {
   "cell_type": "code",
   "execution_count": 135,
   "metadata": {},
   "outputs": [
    {
     "data": {
      "text/plain": [
       "11"
      ]
     },
     "execution_count": 135,
     "metadata": {},
     "output_type": "execute_result"
    }
   ],
   "source": [
    "# using `waste_year` method\n",
    "experience_gamer.waste_year()"
   ]
  }
 ],
 "metadata": {
  "kernelspec": {
   "display_name": "base",
   "language": "python",
   "name": "python3"
  },
  "language_info": {
   "codemirror_mode": {
    "name": "ipython",
    "version": 3
   },
   "file_extension": ".py",
   "mimetype": "text/x-python",
   "name": "python",
   "nbconvert_exporter": "python",
   "pygments_lexer": "ipython3",
   "version": "3.9.0"
  }
 },
 "nbformat": 4,
 "nbformat_minor": 2
}
