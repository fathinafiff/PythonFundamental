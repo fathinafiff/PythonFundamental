{
 "cells": [
  {
   "cell_type": "markdown",
   "metadata": {},
   "source": [
    "# 0. Module"
   ]
  },
  {
   "cell_type": "code",
   "execution_count": 3,
   "metadata": {},
   "outputs": [],
   "source": [
    "from helper import power"
   ]
  },
  {
   "cell_type": "code",
   "execution_count": 6,
   "metadata": {},
   "outputs": [
    {
     "data": {
      "text/plain": [
       "1234"
      ]
     },
     "execution_count": 6,
     "metadata": {},
     "output_type": "execute_result"
    }
   ],
   "source": [
    "power()"
   ]
  },
  {
   "cell_type": "markdown",
   "metadata": {},
   "source": [
    "# 1. Packages"
   ]
  },
  {
   "cell_type": "code",
   "execution_count": 9,
   "metadata": {},
   "outputs": [
    {
     "name": "stdout",
     "output_type": "stream",
     "text": [
      "Requirement already satisfied: requests in /home/tinapyp/Dependencies/miniconda3/lib/python3.9/site-packages (2.31.0)\n",
      "Requirement already satisfied: charset-normalizer<4,>=2 in /home/tinapyp/Dependencies/miniconda3/lib/python3.9/site-packages (from requests) (2.0.4)\n",
      "Requirement already satisfied: idna<4,>=2.5 in /home/tinapyp/Dependencies/miniconda3/lib/python3.9/site-packages (from requests) (3.4)\n",
      "Requirement already satisfied: urllib3<3,>=1.21.1 in /home/tinapyp/Dependencies/miniconda3/lib/python3.9/site-packages (from requests) (1.26.18)\n",
      "Requirement already satisfied: certifi>=2017.4.17 in /home/tinapyp/Dependencies/miniconda3/lib/python3.9/site-packages (from requests) (2023.11.17)\n"
     ]
    }
   ],
   "source": [
    "!pip install requests"
   ]
  },
  {
   "cell_type": "code",
   "execution_count": 10,
   "metadata": {},
   "outputs": [
    {
     "name": "stdout",
     "output_type": "stream",
     "text": [
      "Package                   Version\n",
      "------------------------- ------------\n",
      "altair                    5.2.0\n",
      "archspec                  0.2.1\n",
      "asttokens                 2.4.1\n",
      "attrs                     23.2.0\n",
      "blinker                   1.7.0\n",
      "boltons                   23.0.0\n",
      "Brotli                    1.0.9\n",
      "cachetools                5.3.2\n",
      "certifi                   2023.11.17\n",
      "cffi                      1.15.1\n",
      "charset-normalizer        2.0.4\n",
      "click                     8.1.7\n",
      "comm                      0.1.4\n",
      "conda                     23.9.0\n",
      "conda-content-trust       0.2.0\n",
      "conda-libmamba-solver     23.9.3\n",
      "conda-package-handling    2.2.0\n",
      "conda_package_streaming   0.9.0\n",
      "contourpy                 1.2.0\n",
      "cryptography              41.0.3\n",
      "cycler                    0.12.1\n",
      "debugpy                   1.6.7\n",
      "decorator                 5.1.1\n",
      "distro                    1.8.0\n",
      "entrypoints               0.4\n",
      "et-xmlfile                1.1.0\n",
      "exceptiongroup            1.2.0\n",
      "executing                 2.0.1\n",
      "Flask                     3.0.0\n",
      "fonttools                 4.47.0\n",
      "gitdb                     4.0.11\n",
      "GitPython                 3.1.40\n",
      "idna                      3.4\n",
      "importlib-metadata        6.11.0\n",
      "importlib-resources       6.1.1\n",
      "ipykernel                 6.26.0\n",
      "ipython                   8.18.1\n",
      "itsdangerous              2.1.2\n",
      "jedi                      0.19.1\n",
      "Jinja2                    3.1.2\n",
      "joblib                    1.3.2\n",
      "jsonpatch                 1.32\n",
      "jsonpointer               2.1\n",
      "jsonschema                4.20.0\n",
      "jsonschema-specifications 2023.12.1\n",
      "jupyter-client            7.3.4\n",
      "jupyter_core              5.5.1\n",
      "kiwisolver                1.4.5\n",
      "libmambapy                1.5.1\n",
      "markdown-it-py            3.0.0\n",
      "MarkupSafe                2.1.3\n",
      "matplotlib                3.8.2\n",
      "matplotlib-inline         0.1.6\n",
      "mdurl                     0.1.2\n",
      "menuinst                  2.0.1\n",
      "mysql-connector-python    8.2.0\n",
      "nest-asyncio              1.5.8\n",
      "numpy                     1.26.2\n",
      "openpyxl                  3.1.2\n",
      "packaging                 23.1\n",
      "pandas                    2.1.4\n",
      "parso                     0.8.3\n",
      "pexpect                   4.8.0\n",
      "pickleshare               0.7.5\n",
      "Pillow                    10.1.0\n",
      "pip                       23.3.1\n",
      "platformdirs              3.10.0\n",
      "pluggy                    1.0.0\n",
      "prompt-toolkit            3.0.42\n",
      "protobuf                  4.21.12\n",
      "psutil                    5.9.0\n",
      "ptyprocess                0.7.0\n",
      "pure-eval                 0.2.2\n",
      "pyarrow                   14.0.2\n",
      "pycosat                   0.6.6\n",
      "pycparser                 2.21\n",
      "pydeck                    0.8.1b0\n",
      "Pygments                  2.17.2\n",
      "pyOpenSSL                 23.2.0\n",
      "pyparsing                 3.1.1\n",
      "PySocks                   1.7.1\n",
      "python-dateutil           2.8.2\n",
      "pytz                      2023.3.post1\n",
      "pyzmq                     25.1.0\n",
      "referencing               0.32.0\n",
      "requests                  2.31.0\n",
      "rich                      13.7.0\n",
      "rpds-py                   0.16.2\n",
      "ruamel.yaml               0.17.21\n",
      "ruamel.yaml.clib          0.2.6\n",
      "Sastrawi                  1.0.1\n",
      "scikit-learn              1.3.2\n",
      "scipy                     1.11.4\n",
      "seaborn                   0.13.0\n",
      "setuptools                68.2.2\n",
      "six                       1.16.0\n",
      "smmap                     5.0.1\n",
      "stack-data                0.6.2\n",
      "streamlit                 1.29.0\n",
      "tenacity                  8.2.3\n",
      "threadpoolctl             3.2.0\n",
      "toml                      0.10.2\n",
      "toolz                     0.12.0\n",
      "tornado                   6.1\n",
      "tqdm                      4.65.0\n",
      "traitlets                 5.14.0\n",
      "typing_extensions         4.9.0\n",
      "tzdata                    2023.3\n",
      "tzlocal                   5.2\n",
      "urllib3                   1.26.18\n",
      "validators                0.22.0\n",
      "watchdog                  3.0.0\n",
      "wcwidth                   0.2.12\n",
      "Werkzeug                  3.0.1\n",
      "wheel                     0.41.2\n",
      "zipp                      3.17.0\n",
      "zstandard                 0.19.0\n"
     ]
    }
   ],
   "source": [
    "!pip list"
   ]
  },
  {
   "cell_type": "code",
   "execution_count": 11,
   "metadata": {},
   "outputs": [],
   "source": [
    "import requests"
   ]
  },
  {
   "cell_type": "code",
   "execution_count": 14,
   "metadata": {},
   "outputs": [],
   "source": [
    "joke_url = 'https://icanhazdadjoke.com' # end point for joke\n",
    "iss_url = 'https://api.wheretheiss.at/v1/satellites/25544' # end point for iss"
   ]
  },
  {
   "cell_type": "code",
   "execution_count": 17,
   "metadata": {},
   "outputs": [],
   "source": [
    "# Setting a header\n",
    "my_header = {\n",
    "    'Accept' : 'application/json'\n",
    "}"
   ]
  },
  {
   "cell_type": "code",
   "execution_count": 28,
   "metadata": {},
   "outputs": [
    {
     "data": {
      "text/plain": [
       "<Response [200]>"
      ]
     },
     "execution_count": 28,
     "metadata": {},
     "output_type": "execute_result"
    }
   ],
   "source": [
    "# using joke api\n",
    "r = requests.get(joke_url, headers=my_header)\n",
    "r"
   ]
  },
  {
   "cell_type": "code",
   "execution_count": 29,
   "metadata": {},
   "outputs": [
    {
     "data": {
      "text/plain": [
       "{'id': 'ei3T08EQZob',\n",
       " 'joke': 'Hostess: Do you have a preference of where you sit?\\r\\nDad: Down.',\n",
       " 'status': 200}"
      ]
     },
     "execution_count": 29,
     "metadata": {},
     "output_type": "execute_result"
    }
   ],
   "source": [
    "json = r.json()\n",
    "json"
   ]
  },
  {
   "cell_type": "code",
   "execution_count": 30,
   "metadata": {},
   "outputs": [
    {
     "data": {
      "text/plain": [
       "'Hostess: Do you have a preference of where you sit?\\r\\nDad: Down.'"
      ]
     },
     "execution_count": 30,
     "metadata": {},
     "output_type": "execute_result"
    }
   ],
   "source": [
    "json['joke']"
   ]
  },
  {
   "cell_type": "code",
   "execution_count": 31,
   "metadata": {},
   "outputs": [
    {
     "data": {
      "text/plain": [
       "<Response [200]>"
      ]
     },
     "execution_count": 31,
     "metadata": {},
     "output_type": "execute_result"
    }
   ],
   "source": [
    "# using iss api\n",
    "iss_api = requests.get(iss_url, headers=my_header)\n",
    "iss_api"
   ]
  },
  {
   "cell_type": "code",
   "execution_count": 32,
   "metadata": {},
   "outputs": [
    {
     "data": {
      "text/plain": [
       "{'name': 'iss',\n",
       " 'id': 25544,\n",
       " 'latitude': -5.0805732610764,\n",
       " 'longitude': -84.034693729145,\n",
       " 'altitude': 421.30464141583,\n",
       " 'velocity': 27570.914961176,\n",
       " 'visibility': 'daylight',\n",
       " 'footprint': 4514.0949436403,\n",
       " 'timestamp': 1706713602,\n",
       " 'daynum': 2460341.1296528,\n",
       " 'solar_lat': -17.406515202806,\n",
       " 'solar_lon': 316.66854388325,\n",
       " 'units': 'kilometers'}"
      ]
     },
     "execution_count": 32,
     "metadata": {},
     "output_type": "execute_result"
    }
   ],
   "source": [
    "iss_api.json()"
   ]
  },
  {
   "cell_type": "code",
   "execution_count": null,
   "metadata": {},
   "outputs": [],
   "source": []
  }
 ],
 "metadata": {
  "kernelspec": {
   "display_name": "base",
   "language": "python",
   "name": "python3"
  },
  "language_info": {
   "codemirror_mode": {
    "name": "ipython",
    "version": 3
   },
   "file_extension": ".py",
   "mimetype": "text/x-python",
   "name": "python",
   "nbconvert_exporter": "python",
   "pygments_lexer": "ipython3",
   "version": "3.9.0"
  }
 },
 "nbformat": 4,
 "nbformat_minor": 2
}
